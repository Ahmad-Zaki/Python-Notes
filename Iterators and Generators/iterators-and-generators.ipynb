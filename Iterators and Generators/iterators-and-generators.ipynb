{
 "cells": [
  {
   "cell_type": "markdown",
   "metadata": {},
   "source": [
    "# Iterators and Generators   <a href=\"https://colab.research.google.com/github/Ahmad-Zaki/Python-Notes/blob/main/Iterators%20and%20Generators/iterators-and-generators.ipynb\"><img src=\"https://colab.research.google.com/assets/colab-badge.svg\" alt=\"Open in Colab\" title=\"Open and Execute in Google Colaboratory\"></a>"
   ]
  },
  {
   "cell_type": "markdown",
   "metadata": {},
   "source": [
    "## Introduction"
   ]
  },
  {
   "cell_type": "markdown",
   "metadata": {},
   "source": [
    "Iterators are objects that have you can loop\\iterate upon, which means that we can go over all the values that it contains.\n",
    "\n",
    "In Python, An iterable object is an object that implements `__iter__`, which is expected to return an iterator object. An iterator object implements `__next__`, which is expected to return the next element of the iterable object that returned it, and to raise a StopIteration exception when no more elements are available.\n",
    "\n",
    "Python generators are a simple way of creating iterators. Generator functions allow you to declare a function that behaves like an iterator, i.e. it can be used in a for loop. A generator is, simply put, a function which can stop whatever it is doing at an arbitrary point in its body, return a value back to the caller, and, later on, resume from the point it had `frozen' and merrily proceed as if nothing had happened. "
   ]
  },
  {
   "cell_type": "markdown",
   "metadata": {},
   "source": [
    "## Iterators"
   ]
  },
  {
   "cell_type": "markdown",
   "metadata": {},
   "source": [
    "Python contains a lot of iterable objects by default, like *lists*, *tuples*, *dictionaries*, ...etc. We can create iterators from them simply by passing them to the built-in function `iter()`:"
   ]
  },
  {
   "cell_type": "code",
   "execution_count": 1,
   "metadata": {},
   "outputs": [
    {
     "data": {
      "text/plain": [
       "list_iterator"
      ]
     },
     "execution_count": 1,
     "metadata": {},
     "output_type": "execute_result"
    }
   ],
   "source": [
    "lst = [1, 2, 3]\n",
    "lst_iterator = iter(lst)\n",
    "type(lst_iterator)"
   ]
  },
  {
   "cell_type": "markdown",
   "metadata": {},
   "source": [
    "Once we have an itertor object, we can traverse the values of its iterable object one-by-one by calling the `next()` function :"
   ]
  },
  {
   "cell_type": "code",
   "execution_count": 2,
   "metadata": {},
   "outputs": [
    {
     "name": "stdout",
     "output_type": "stream",
     "text": [
      "1\n",
      "2\n",
      "3\n"
     ]
    },
    {
     "ename": "StopIteration",
     "evalue": "",
     "output_type": "error",
     "traceback": [
      "\u001b[1;31m---------------------------------------------------------------------------\u001b[0m",
      "\u001b[1;31mStopIteration\u001b[0m                             Traceback (most recent call last)",
      "\u001b[1;32m~\\AppData\\Local\\Temp/ipykernel_6700/3357188885.py\u001b[0m in \u001b[0;36m<module>\u001b[1;34m\u001b[0m\n\u001b[0;32m      2\u001b[0m \u001b[0mprint\u001b[0m\u001b[1;33m(\u001b[0m\u001b[0mnext\u001b[0m\u001b[1;33m(\u001b[0m\u001b[0mlst_iterator\u001b[0m\u001b[1;33m)\u001b[0m\u001b[1;33m)\u001b[0m\u001b[1;33m\u001b[0m\u001b[1;33m\u001b[0m\u001b[0m\n\u001b[0;32m      3\u001b[0m \u001b[0mprint\u001b[0m\u001b[1;33m(\u001b[0m\u001b[0mnext\u001b[0m\u001b[1;33m(\u001b[0m\u001b[0mlst_iterator\u001b[0m\u001b[1;33m)\u001b[0m\u001b[1;33m)\u001b[0m\u001b[1;33m\u001b[0m\u001b[1;33m\u001b[0m\u001b[0m\n\u001b[1;32m----> 4\u001b[1;33m \u001b[0mprint\u001b[0m\u001b[1;33m(\u001b[0m\u001b[0mnext\u001b[0m\u001b[1;33m(\u001b[0m\u001b[0mlst_iterator\u001b[0m\u001b[1;33m)\u001b[0m\u001b[1;33m)\u001b[0m\u001b[1;33m\u001b[0m\u001b[1;33m\u001b[0m\u001b[0m\n\u001b[0m",
      "\u001b[1;31mStopIteration\u001b[0m: "
     ]
    }
   ],
   "source": [
    "print(next(lst_iterator))\n",
    "print(next(lst_iterator))\n",
    "print(next(lst_iterator))\n",
    "print(next(lst_iterator))"
   ]
  },
  {
   "cell_type": "markdown",
   "metadata": {},
   "source": [
    "Notice that when an iterator runs out of values to traverse, it raises `StopIteration` exception. This is how a for-loop knows when to stop the loop over iterators; once `StopIteration` is raised, the loop is over. \n",
    "\n",
    "With this logic, we can mimic what happens in a for loop as follows:"
   ]
  },
  {
   "cell_type": "code",
   "execution_count": 3,
   "metadata": {},
   "outputs": [],
   "source": [
    "lst = [1, 2, 3]\n",
    "lst_iterator = iter(lst)"
   ]
  },
  {
   "cell_type": "code",
   "execution_count": 4,
   "metadata": {},
   "outputs": [
    {
     "name": "stdout",
     "output_type": "stream",
     "text": [
      "for loop:\n",
      "1\n",
      "2\n",
      "3\n"
     ]
    }
   ],
   "source": [
    "print(\"for loop:\")\n",
    "for val in lst:\n",
    "    print(val)"
   ]
  },
  {
   "cell_type": "code",
   "execution_count": 5,
   "metadata": {},
   "outputs": [
    {
     "name": "stdout",
     "output_type": "stream",
     "text": [
      "equivalent while loop:\n",
      "1\n",
      "2\n",
      "3\n"
     ]
    }
   ],
   "source": [
    "print(\"equivalent while loop:\")\n",
    "while True:\n",
    "    try:\n",
    "        val = next(lst_iterator)\n",
    "    except StopIteration:\n",
    "        break\n",
    "    \n",
    "    print(val)"
   ]
  },
  {
   "cell_type": "markdown",
   "metadata": {},
   "source": [
    "You Can build your own iterables and iterators in Python as well. The `iter()` function calls the `__iter__` method of the object passed to it, and the `next()` function calls the `__next__` method. Therefore, you have to implement those methods in your class in order to make iterable/iterator objects of that class."
   ]
  },
  {
   "cell_type": "code",
   "execution_count": 6,
   "metadata": {},
   "outputs": [
    {
     "name": "stdout",
     "output_type": "stream",
     "text": [
      "iteration is still going.\n",
      "iteration stopped!\n"
     ]
    }
   ],
   "source": [
    "import random\n",
    "\n",
    "class RandomIterable:\n",
    "    def __iter__(self):\n",
    "        return self\n",
    "\n",
    "    def __next__(self):\n",
    "        if random.choice([\"go\", \"go\", \"stop\"]) == \"stop\":\n",
    "            print(\"iteration stopped!\")\n",
    "            raise StopIteration  # signals \"the end\"\n",
    "\n",
    "        print(\"iteration is still going.\")\n",
    "        return 1\n",
    "\n",
    "rand_iter = RandomIterable()\n",
    "\n",
    "for val in rand_iter:\n",
    "    pass"
   ]
  },
  {
   "cell_type": "markdown",
   "metadata": {},
   "source": [
    "Notice that `__iter__` method returns `self`, this is because the object has a `__next__` method as well,which makes the object both an iterable and an iterator.\n",
    "\n",
    "But we can make an iterable object only by implementing `__iter__` only, just remember that `__iter__` has to return an iterator object so that it can work properly."
   ]
  },
  {
   "cell_type": "code",
   "execution_count": 7,
   "metadata": {},
   "outputs": [],
   "source": [
    "class iterableObject:\n",
    "    def __init__(self, vals: list):\n",
    "        self.vals = vals\n",
    "\n",
    "    def __iter__(self):\n",
    "        return iter(self.vals)"
   ]
  },
  {
   "cell_type": "code",
   "execution_count": 8,
   "metadata": {},
   "outputs": [
    {
     "name": "stdout",
     "output_type": "stream",
     "text": [
      "1\n",
      "2\n",
      "3\n",
      "4\n",
      "5\n"
     ]
    }
   ],
   "source": [
    "a = iterableObject([1,2,3,4,5])\n",
    "\n",
    "for v in a:\n",
    "    print(v)"
   ]
  },
  {
   "cell_type": "markdown",
   "metadata": {},
   "source": [
    "Iterators will typically need to maintain some kind of position state information (e.g., the index of the last element returned). If the iterable maintained that state itself, it would become inherently non-reentrant (meaning we could use it only one loop at a time). That's why it is not preferred to make an object an iterator of itself."
   ]
  },
  {
   "cell_type": "markdown",
   "metadata": {},
   "source": [
    "**In summary:** An object isn't iterable unless it provides `__iter__`, which returns an iterator. And for an object to be a valid iterator, it must provide `__next__`, which returns the next value in line, and raises `StopIteration` when no values are left."
   ]
  },
  {
   "cell_type": "markdown",
   "metadata": {},
   "source": [
    "## Generators"
   ]
  },
  {
   "cell_type": "markdown",
   "metadata": {},
   "source": [
    "There is a bit of work involved with building an iterator in Python. We have to implement a class with `__iter__` and `__next__` methods, keep track of internal states, and raise StopIteration when there are no values to be returned.\n",
    "\n",
    "Python generators are a simple way of creating iterators. Generator functions allow you to declare a function that behaves like an iterator, i.e. it can be used in a for loop.\n",
    "\n",
    "Creating a generator is as simple as creating a function in Python, The main difference is that a generator will have a `yield` keyword instead of the usual `return` keyword."
   ]
  },
  {
   "cell_type": "markdown",
   "metadata": {},
   "source": [
    "### Example"
   ]
  },
  {
   "cell_type": "code",
   "execution_count": 9,
   "metadata": {},
   "outputs": [
    {
     "name": "stdout",
     "output_type": "stream",
     "text": [
      "<generator object simple_generator at 0x000001CFF5551200>\n"
     ]
    }
   ],
   "source": [
    "def simple_generator():\n",
    "\tprint('hello')\n",
    "\tyield 1\n",
    "\tprint('world')\n",
    "\tyield 2\n",
    "\n",
    "gen = simple_generator()\n",
    "print(gen)"
   ]
  },
  {
   "cell_type": "markdown",
   "metadata": {},
   "source": [
    "Notice that calling the function did not result in the function getting executed. Instead, the Python interpreter gave us a `generator object`. This is because generators are *lazily evaluated*, meaning they will generate (i.e. yield) only one value at a time.\n",
    "\n",
    "If we use `next()` on gen, it will execute the function, which generates one value and immediately stops. calling `next()` again will resume the execution of gen, generate another value and then stops again. Calling `next()` once there are no more values to yield will raise a `StopIteration` exception."
   ]
  },
  {
   "cell_type": "code",
   "execution_count": 10,
   "metadata": {},
   "outputs": [
    {
     "name": "stdout",
     "output_type": "stream",
     "text": [
      "hello\n"
     ]
    },
    {
     "data": {
      "text/plain": [
       "1"
      ]
     },
     "execution_count": 10,
     "metadata": {},
     "output_type": "execute_result"
    }
   ],
   "source": [
    "next(gen)"
   ]
  },
  {
   "cell_type": "code",
   "execution_count": 11,
   "metadata": {},
   "outputs": [
    {
     "name": "stdout",
     "output_type": "stream",
     "text": [
      "world\n"
     ]
    },
    {
     "data": {
      "text/plain": [
       "2"
      ]
     },
     "execution_count": 11,
     "metadata": {},
     "output_type": "execute_result"
    }
   ],
   "source": [
    "next(gen)"
   ]
  },
  {
   "cell_type": "markdown",
   "metadata": {},
   "source": [
    "This behaviour saves a lot of memory during runtime, especially when there are a large number of values to generate\\go over.\n",
    "\n",
    "we can see the difference with an example: theses two functions do the same task, but differ in how they do it. The first generates one value at a time, while the second computes values and returns them all at once in a list."
   ]
  },
  {
   "cell_type": "code",
   "execution_count": 12,
   "metadata": {},
   "outputs": [],
   "source": [
    "def first_n_gen(n: int):\n",
    "    num = 0\n",
    "    while num < n:\n",
    "        yield num\n",
    "        num += 1\n",
    "\n",
    "def first_n_list(n: int):\n",
    "    num = 0\n",
    "    nums = []\n",
    "    while num < n:\n",
    "        nums.append(num)\n",
    "        num += 1\n",
    "    return nums"
   ]
  },
  {
   "cell_type": "code",
   "execution_count": 15,
   "metadata": {},
   "outputs": [
    {
     "name": "stdout",
     "output_type": "stream",
     "text": [
      "151 ms ± 6.33 ms per loop (mean ± std. dev. of 7 runs, 10 loops each)\n",
      "peak memory: 91.18 MiB, increment: 0.07 MiB\n"
     ]
    }
   ],
   "source": [
    "%timeit -r7 -n10 sum(first_n_gen(1_000_000))\n",
    "%memit sum(first_n_gen(1_000_000))"
   ]
  },
  {
   "cell_type": "code",
   "execution_count": 16,
   "metadata": {},
   "outputs": [
    {
     "name": "stdout",
     "output_type": "stream",
     "text": [
      "197 ms ± 2.99 ms per loop (mean ± std. dev. of 7 runs, 10 loops each)\n",
      "peak memory: 126.40 MiB, increment: 35.36 MiB\n"
     ]
    }
   ],
   "source": [
    "%timeit -r7 -n10 sum(first_n_list(1_000_000))\n",
    "%memit sum(first_n_list(1_000_000))"
   ]
  },
  {
   "cell_type": "markdown",
   "metadata": {},
   "source": [
    "Notice that not only the list-based function is slower due to the overhead of list appends, but it also consumed significantly more memory as well. We could probably use list comprehension to bring the running time down, but the memory usage will remain far beyond what the generator used."
   ]
  },
  {
   "cell_type": "markdown",
   "metadata": {},
   "source": [
    "It may seem at this point that we should use generators everywhere in place of creating lists, but that would create\n",
    "many complications.\n",
    "\n",
    "What if, for example, you needed to reference the list of *first n numbers* multiple times? In this case, the list-based function would compute this list once and we won't need to do it again, while the generator would have to recompute them over and over again. "
   ]
  },
  {
   "cell_type": "markdown",
   "metadata": {},
   "source": [
    "### Built-in Generators"
   ]
  },
  {
   "cell_type": "markdown",
   "metadata": {},
   "source": [
    "Many of Python’s built-in functions that operate on sequences are generators themselves (albeit sometimes a special type of generators). For example, `range` returns a generator of values as opposed to the actual list of numbers within the specified range. Similarly,\n",
    "`map`, `zip`, `filter`, `reversed`, and `enumerate` all perform the calculation as needed and don’t store the full result. This means that the\n",
    "operation `zip(range(100_000), range(100_000))` will always have only two numbers in memory in order to return its corresponding values, instead of precalculating the result for the entire range beforehand."
   ]
  },
  {
   "cell_type": "markdown",
   "metadata": {},
   "source": [
    "Consider the following generator, which generates the first n numbers of a febonacci series:"
   ]
  },
  {
   "cell_type": "code",
   "execution_count": 17,
   "metadata": {},
   "outputs": [],
   "source": [
    "def feb_gen(n: int):\n",
    "    a, b = 0, 1\n",
    "    num = 0\n",
    "    while num != n:\n",
    "        yield a\n",
    "        a, b = b, a+b\n",
    "        num += 1"
   ]
  },
  {
   "cell_type": "code",
   "execution_count": 18,
   "metadata": {},
   "outputs": [
    {
     "data": {
      "text/plain": [
       "[0, 1, 1, 2, 3, 5, 8, 13, 21, 34]"
      ]
     },
     "execution_count": 18,
     "metadata": {},
     "output_type": "execute_result"
    }
   ],
   "source": [
    "[*feb_gen(10)]"
   ]
  },
  {
   "cell_type": "markdown",
   "metadata": {},
   "source": [
    "for example, If we want to know how many numbers in the first 100,000 numbers of fibonacci sequence is divisible by 3, we can use list comprehension to create a list with these numbers and see its length:"
   ]
  },
  {
   "cell_type": "code",
   "execution_count": 19,
   "metadata": {},
   "outputs": [
    {
     "data": {
      "text/plain": [
       "25000"
      ]
     },
     "execution_count": 19,
     "metadata": {},
     "output_type": "execute_result"
    }
   ],
   "source": [
    "len([i for i in feb_gen(100_000) if i % 3 == 0])"
   ]
  },
  {
   "cell_type": "markdown",
   "metadata": {},
   "source": [
    "While we are still using the generator to get these numbers, we created a list along the way to store them and get their count, which uses a lot of memory for no reason."
   ]
  },
  {
   "cell_type": "code",
   "execution_count": 20,
   "metadata": {},
   "outputs": [
    {
     "name": "stdout",
     "output_type": "stream",
     "text": [
      "peak memory: 203.23 MiB, increment: 111.16 MiB\n"
     ]
    }
   ],
   "source": [
    "%memit len([i for i in feb_gen(100_000) if i % 3 == 0])"
   ]
  },
  {
   "cell_type": "markdown",
   "metadata": {},
   "source": [
    "Instead of using a list comprehension statement and wasting all this memory, Python allows us to create **generator comprehension** statements! Theses statements are exactly like list comprehensions, but creates a generator that lazily yields each item one-by one."
   ]
  },
  {
   "cell_type": "code",
   "execution_count": 21,
   "metadata": {},
   "outputs": [
    {
     "data": {
      "text/plain": [
       "generator"
      ]
     },
     "execution_count": 21,
     "metadata": {},
     "output_type": "execute_result"
    }
   ],
   "source": [
    "filtered_gen = (i for i in feb_gen(100_000) if i % 3 == 0)\n",
    "type(filtered_gen)"
   ]
  },
  {
   "cell_type": "markdown",
   "metadata": {},
   "source": [
    "Unfortunately, generators don't have a `length` property. Therefore, we have to work around that to get the count of these values:"
   ]
  },
  {
   "cell_type": "code",
   "execution_count": 22,
   "metadata": {},
   "outputs": [
    {
     "data": {
      "text/plain": [
       "25000"
      ]
     },
     "execution_count": 22,
     "metadata": {},
     "output_type": "execute_result"
    }
   ],
   "source": [
    "sum(1 for _ in filtered_gen)"
   ]
  },
  {
   "cell_type": "code",
   "execution_count": 23,
   "metadata": {},
   "outputs": [
    {
     "name": "stdout",
     "output_type": "stream",
     "text": [
      "peak memory: 92.69 MiB, increment: 0.04 MiB\n"
     ]
    }
   ],
   "source": [
    "%memit sum(1 for _ in filtered_gen)"
   ]
  },
  {
   "cell_type": "markdown",
   "metadata": {},
   "source": [
    "As we can see, the memory usage of this generator is trivial compared to what we required with a list comprehension."
   ]
  },
  {
   "cell_type": "markdown",
   "metadata": {},
   "source": [
    "### Infinite Sequence Generators"
   ]
  },
  {
   "cell_type": "markdown",
   "metadata": {},
   "source": [
    "Instead of calculating a known number of Fibonacci numbers, what if we instead attempted to calculate all of them?"
   ]
  },
  {
   "cell_type": "code",
   "execution_count": 24,
   "metadata": {},
   "outputs": [],
   "source": [
    "def febonacci():\n",
    "    a, b = 0, 1\n",
    "    while True:\n",
    "        yield a\n",
    "        a, b = b, a+b"
   ]
  },
  {
   "cell_type": "markdown",
   "metadata": {},
   "source": [
    "This generator does something that is impossible to do with functions that compute the whole sequence first and returns a list. It allows us to get as many numbers as we like from the febunacci sequence and stop when we determine that we had enough."
   ]
  },
  {
   "cell_type": "markdown",
   "metadata": {},
   "source": [
    "### Lazy Generator Evaluation"
   ]
  },
  {
   "cell_type": "markdown",
   "metadata": {},
   "source": [
    "The way we get the memory benefits with a generator is by dealing only with the current values of interest. At any point in our calculation with a\n",
    "generator, we have only the current value and cannot reference any other items in the sequence (algorithms that perform this way are generally called single pass or online). This can sometimes make generators more difficult to use, but many modules and functions can help."
   ]
  },
  {
   "cell_type": "markdown",
   "metadata": {},
   "source": [
    "The main library of interest is **`itertools`**, in the standard library. It supplies many useful functions, including these:\n",
    "- `islice`: Allows slicing a potentially infinite generator\n",
    "- `chain`: Chains together multiple generators\n",
    "- `takewhile`: Adds a condition that will end a generator\n",
    "- `cycle`: Makes a finite generator infinite by constantly repeating it"
   ]
  }
 ],
 "metadata": {
  "interpreter": {
   "hash": "ec26fe652b81aa16e73f5f2489daa0bd9f355124f013eb8138d239f76af89ec7"
  },
  "kernelspec": {
   "display_name": "Python 3.9.7 ('base')",
   "language": "python",
   "name": "python3"
  },
  "language_info": {
   "codemirror_mode": {
    "name": "ipython",
    "version": 3
   },
   "file_extension": ".py",
   "mimetype": "text/x-python",
   "name": "python",
   "nbconvert_exporter": "python",
   "pygments_lexer": "ipython3",
   "version": "3.9.7"
  },
  "orig_nbformat": 4
 },
 "nbformat": 4,
 "nbformat_minor": 2
}
