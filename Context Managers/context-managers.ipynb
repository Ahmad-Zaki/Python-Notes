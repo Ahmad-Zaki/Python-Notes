{
 "cells": [
  {
   "cell_type": "markdown",
   "metadata": {},
   "source": [
    "# Context Managers   <a href=\"https://colab.research.google.com/github/Ahmad-Zaki/Python-Notes/blob/main/Context%20Managers/context-managers.ipynb\"><img src=\"https://colab.research.google.com/assets/colab-badge.svg\" alt=\"Open in Colab\" title=\"Open and Execute in Google Colaboratory\"></a>"
   ]
  },
  {
   "cell_type": "markdown",
   "metadata": {},
   "source": [
    "## Introduction"
   ]
  },
  {
   "cell_type": "markdown",
   "metadata": {},
   "source": [
    "Context Managers allow you to allocate and release resources precisely when you want to. The most widely used example of context managers is the `with` statement. It lets you create a sprecific context for your code to run into, then remove the context once the code execution is done.\n",
    "\n",
    "The `with` statement in Python is a quite useful tool for properly managing external resources in your programs. It allows you to take advantage of existing Context Managers to automatically handle the setup and teardown phases whenever you’re dealing with external resources or with operations that require those phases."
   ]
  },
  {
   "cell_type": "markdown",
   "metadata": {},
   "source": [
    "## Using a Context Manager"
   ]
  },
  {
   "cell_type": "markdown",
   "metadata": {},
   "source": [
    "One of the most widely used examples of Context Managers is opening files:"
   ]
  },
  {
   "cell_type": "code",
   "execution_count": 1,
   "metadata": {},
   "outputs": [],
   "source": [
    "with open(\"my_file.txt\", \"w\") as my_file:\n",
    "    my_file.write(\"Hello world!\")"
   ]
  },
  {
   "cell_type": "markdown",
   "metadata": {},
   "source": [
    "the previous code block does 3 things:\n",
    "1. Sets up a context (the context here is that an opened file is assigned to a variable called `my_file`).\n",
    "2. Run some code inside that context.\n",
    "3. Removes the context by closing the file\n",
    "\n",
    "If an error occurs while writing the data to the file, it tries to close it. The above code is equivalent to:"
   ]
  },
  {
   "cell_type": "code",
   "execution_count": 2,
   "metadata": {},
   "outputs": [],
   "source": [
    "my_file = open('my_file.txt', 'w')\n",
    "try:\n",
    "    my_file.write('Hello world!')\n",
    "except FileNotFoundError as e:\n",
    "    print(f\"Error occurred while writing to the file: {e}\")\n",
    "finally:\n",
    "    my_file.close()"
   ]
  },
  {
   "cell_type": "markdown",
   "metadata": {},
   "source": [
    "We can see the using `with` made the code much simpler by managing the opening and closing of the file. A common use case of Context Managers is locking and releasing resources, like what we did with closing an opened file."
   ]
  },
  {
   "cell_type": "markdown",
   "metadata": {},
   "source": [
    "## Managing Resources in Python"
   ]
  },
  {
   "cell_type": "markdown",
   "metadata": {},
   "source": [
    "A common problem you’ll face in programming is how to properly manage external resources, such as files, network connections, ... etc. Sometimes, a program will retain those resources forever, even if you no longer need them. This will reduce the available memory every time we create or open a new instance of a given resource withour closing na existing one.\n",
    "\n",
    "Managing external resources requires buikding a **setup** phase (where you access that resource) and **teardown** phase (where you release that resource). The teardown phase includes some cleanup actions like closing a file and disconnention and network connection. If we don't do this, the application may keep the resource alive, consuming our system resources like memory or bandwidth."
   ]
  },
  {
   "cell_type": "markdown",
   "metadata": {},
   "source": [
    "## Building a context manager"
   ]
  },
  {
   "cell_type": "markdown",
   "metadata": {},
   "source": [
    "There are two ways to create our own Context Managers:\n",
    "1. Class-based\n",
    "2. Function-based"
   ]
  },
  {
   "cell_type": "markdown",
   "metadata": {},
   "source": [
    "### Class-based Context Managers"
   ]
  },
  {
   "cell_type": "markdown",
   "metadata": {},
   "source": [
    "The `with` statement in Python can be written in this general form:\n",
    "```python\n",
    "with expression as target_var:\n",
    "    do_something(target_var)\n",
    "```\n",
    "\n",
    "the Context Manager here will be an object that results from executing the `expression`. In order for that object to function properly as a Context Manager, it must implement the **context management protocol**, which consists of 2 magic methods:\n",
    "- `__enter__`: This is called by the `with` statement to enter the context.\n",
    "- `__exit__`: This is called once the code reaches the end of the `with` block to deconstruct the context. "
   ]
  },
  {
   "cell_type": "markdown",
   "metadata": {},
   "source": [
    "With that in mind, Lets make our own file-opening Context Manager to see how it works:"
   ]
  },
  {
   "cell_type": "code",
   "execution_count": 9,
   "metadata": {},
   "outputs": [],
   "source": [
    "class OpenFile:\n",
    "    def __init__(self, file_name, mode):\n",
    "        self.file_obj = open(file_name, mode)\n",
    "    def __enter__(self):\n",
    "        return self.file_obj\n",
    "    def __exit__(self, type, value, traceback):\n",
    "        self.file_obj.close()"
   ]
  },
  {
   "cell_type": "markdown",
   "metadata": {},
   "source": [
    "Note that the `__exit__` method takes three arguments, which are required by every `__exit__` method in a Context Manager class. If an exception occurs, Python passes the `type`, `value` and `traceback` of the exception to the `__exit__` method. It allows the `__exit__` method to decide how to close the file and if any further steps are required. In our case we are simply them.\n",
    "\n",
    "Now, we can try our Context Manager to see if it works as intended:"
   ]
  },
  {
   "cell_type": "code",
   "execution_count": 10,
   "metadata": {},
   "outputs": [],
   "source": [
    "with OpenFile('my_file.txt', 'w') as my_file:\n",
    "    my_file.write('This has been writting through my own context manager!')"
   ]
  },
  {
   "cell_type": "markdown",
   "metadata": {},
   "source": [
    "Here's how Python deals with a `with` statement when it runs into it:\n",
    "1. The expression `OpenFile('my_file.txt', 'w')` is executed to obtain a Context Manager object.\n",
    "2. Calls `__enter__()` method on the Context Manager and allocates its return value to `my_file`.\n",
    "3. Executes the `with` statement code block.\n",
    "4. Calls `__exit__()` on the Context Manager when the `with` code block is done, even if an exception is raised inside it.\n",
    "\n",
    "The `as` keyword is optional. Some context managers return `None` from `__enter__()` because they have no useful object to give back to the caller. In these cases, using `as` to allocate `None` to variable makes no sense."
   ]
  },
  {
   "cell_type": "markdown",
   "metadata": {},
   "source": [
    "### Function-based Context Managers."
   ]
  },
  {
   "cell_type": "markdown",
   "metadata": {},
   "source": [
    "Python’s generator functions and the `contextlib.contextmanager` decorator provide an alternative and convenient way to implement the context management protocol.\n",
    "\n",
    "Consider the following Context Manager, which changes the current working directory for some code and then changes it back to the original directory:"
   ]
  },
  {
   "cell_type": "code",
   "execution_count": 11,
   "metadata": {},
   "outputs": [],
   "source": [
    "from contextlib import contextmanager\n",
    "import os\n",
    "\n",
    "@contextmanager\n",
    "def cwd(path):\n",
    "    print(\"Setting up context...\")\n",
    "    old_dir = os.getcwd()\n",
    "    os.chdir(path)\n",
    "\n",
    "    yield\n",
    "\n",
    "    print(\"removing context...\")\n",
    "    os.chdir(old_dir)"
   ]
  },
  {
   "cell_type": "code",
   "execution_count": 20,
   "metadata": {},
   "outputs": [
    {
     "name": "stdout",
     "output_type": "stream",
     "text": [
      "Setting up context...\n",
      "['Context Managers', 'Function Decorators', 'Iterators and Generators', 'readme.md', 'String Formatting', 'Timing and Profiling Python code']\n",
      "removing context...\n"
     ]
    }
   ],
   "source": [
    "with cwd(\"..\"):\n",
    "    dirs = os.listdir()[1:]\n",
    "    print(dirs)"
   ]
  },
  {
   "cell_type": "markdown",
   "metadata": {},
   "source": [
    "In this example, we can see two visible sections in `cwd()`. Before the `yield` statement, we have the setup section. where we place the code that acquires the managed resources. Everything before the yield runs when the flow of execution enters the context.\n",
    "\n",
    "The `yield` statement provides the object that will be assigned to the with target variable. In the example above, we don't require the Context Manager to return anything.\n",
    "\n",
    "After the `yield` statement, we have the teardown section, in which we can release the resources and do the cleanup. The code after `yield` runs at the end of the `with` block."
   ]
  },
  {
   "cell_type": "markdown",
   "metadata": {},
   "source": [
    "The `@contextmanager` decorator reduces the boilerplate required to create a context manager. Instead of writing a whole class with `__enter__` and `__exit__` methods, you just need to implement a generator function with a single `yield` that produces whatever you want `__enter__` to return."
   ]
  },
  {
   "cell_type": "markdown",
   "metadata": {},
   "source": [
    "This implementation and the one that uses the context management protocol are practically equivalent. Depending on which one you find more readable, you might prefer one over the other."
   ]
  },
  {
   "cell_type": "markdown",
   "metadata": {},
   "source": [
    "## Handling Exceptions"
   ]
  },
  {
   "cell_type": "markdown",
   "metadata": {},
   "source": [
    "We have seen in the class-based Context Managers that `__exit__` accepts the `type`, `value` and `traceback` of the exception. This allows it to handle the exception properly or raise it if it can't handle it.\n",
    "\n",
    "Let's get back to the `File` context manager we created before:\n",
    "```python\n",
    "class OpenFile:\n",
    "    def __init__(self, file_name, mode):\n",
    "        self.file_obj = open(file_name, mode)\n",
    "    def __enter__(self):\n",
    "        return self.file_obj\n",
    "    def __exit__(self, type, value, traceback):\n",
    "        self.file_obj.close()\n",
    "```\n",
    "\n",
    "What if our file object raises an exception? We might be trying to access a method on the file object which it does not supports. For instance:"
   ]
  },
  {
   "cell_type": "code",
   "execution_count": 21,
   "metadata": {},
   "outputs": [
    {
     "ename": "AttributeError",
     "evalue": "'_io.TextIOWrapper' object has no attribute 'whatever'",
     "output_type": "error",
     "traceback": [
      "\u001b[1;31m---------------------------------------------------------------------------\u001b[0m",
      "\u001b[1;31mAttributeError\u001b[0m                            Traceback (most recent call last)",
      "\u001b[1;32m~\\AppData\\Local\\Temp/ipykernel_6436/1252665718.py\u001b[0m in \u001b[0;36m<module>\u001b[1;34m\u001b[0m\n\u001b[0;32m      1\u001b[0m \u001b[1;32mwith\u001b[0m \u001b[0mOpenFile\u001b[0m\u001b[1;33m(\u001b[0m\u001b[1;34m\"my_file.txt\"\u001b[0m\u001b[1;33m,\u001b[0m \u001b[1;34m\"w\"\u001b[0m\u001b[1;33m)\u001b[0m \u001b[1;32mas\u001b[0m \u001b[0mmy_file\u001b[0m\u001b[1;33m:\u001b[0m\u001b[1;33m\u001b[0m\u001b[1;33m\u001b[0m\u001b[0m\n\u001b[1;32m----> 2\u001b[1;33m     \u001b[0mmy_file\u001b[0m\u001b[1;33m.\u001b[0m\u001b[0mwhatever\u001b[0m\u001b[1;33m(\u001b[0m\u001b[1;34m\"What is this?!\"\u001b[0m\u001b[1;33m)\u001b[0m\u001b[1;33m\u001b[0m\u001b[1;33m\u001b[0m\u001b[0m\n\u001b[0m",
      "\u001b[1;31mAttributeError\u001b[0m: '_io.TextIOWrapper' object has no attribute 'whatever'"
     ]
    }
   ],
   "source": [
    "with OpenFile(\"my_file.txt\", \"w\") as my_file:\n",
    "    my_file.whatever(\"What is this?!\")"
   ]
  },
  {
   "cell_type": "markdown",
   "metadata": {},
   "source": [
    "Here are the steps which are taken by the `with` statement when an error is encountered:\n",
    "1. It passes the type, value and traceback of the error to the `__exit__` method.\n",
    "2. the `__exit__` method tries to handle the exception.\n",
    "3. `__exit__` returns `True` if the exception is handled successfully.\n",
    "4. If anything other than `True` is returned by `__exit__` then the exception is raised by the `with` statement. "
   ]
  },
  {
   "cell_type": "markdown",
   "metadata": {},
   "source": [
    "In our example, `__exit__` returns `None`. Therefore, the `with` statement raises the exception. Let's modify it to supress the exception instead:"
   ]
  },
  {
   "cell_type": "code",
   "execution_count": 31,
   "metadata": {},
   "outputs": [],
   "source": [
    "class OpenFile:\n",
    "    def __init__(self, file_name, mode):\n",
    "        self.file_obj = open(file_name, mode)\n",
    "    def __enter__(self):\n",
    "        return self.file_obj\n",
    "    def __exit__(self, type, value, traceback):\n",
    "        if type:\n",
    "            print(\"Exception encounted!\")\n",
    "            print(f\"\\t Traceback: {traceback}\")\n",
    "            print(f\"\\t Type: {type}, Value: {value}\")\n",
    "            print(\"This exception will be ignored.\")\n",
    "        self.file_obj.close()\n",
    "        return True"
   ]
  },
  {
   "cell_type": "code",
   "execution_count": 32,
   "metadata": {},
   "outputs": [
    {
     "name": "stdout",
     "output_type": "stream",
     "text": [
      "Exception encounted!\n",
      "\t Traceback: <traceback object at 0x000001D2CA6BF540>\n",
      "\t Type: <class 'AttributeError'>, Value: '_io.TextIOWrapper' object has no attribute 'whatever'\n",
      "This exception will be ignored.\n"
     ]
    }
   ],
   "source": [
    "with OpenFile(\"my_file.txt\", \"w\") as my_file:\n",
    "    my_file.whatever(\"What is this?!\")"
   ]
  },
  {
   "cell_type": "markdown",
   "metadata": {},
   "source": [
    "As for the function-based Context Managers, handling exceptions is as simple as using a `try - except - finally` code block:"
   ]
  },
  {
   "cell_type": "code",
   "execution_count": 36,
   "metadata": {},
   "outputs": [],
   "source": [
    "@contextmanager\n",
    "def open_file(name, mode):\n",
    "    f = open(name, mode)\n",
    "\n",
    "    try:\n",
    "        yield f\n",
    "\n",
    "    except Exception as e:\n",
    "        print(f\"An exception occurred!\\n {e}\")\n",
    "        \n",
    "    finally:\n",
    "        f.close()"
   ]
  },
  {
   "cell_type": "code",
   "execution_count": 37,
   "metadata": {},
   "outputs": [
    {
     "name": "stdout",
     "output_type": "stream",
     "text": [
      "An exception occurred!\n",
      " '_io.TextIOWrapper' object has no attribute 'whatever'\n"
     ]
    }
   ],
   "source": [
    "with open_file(\"my_file.txt\", \"w\") as my_file:\n",
    "    my_file.whatever(\"What is this?!\")"
   ]
  }
 ],
 "metadata": {
  "interpreter": {
   "hash": "ec26fe652b81aa16e73f5f2489daa0bd9f355124f013eb8138d239f76af89ec7"
  },
  "kernelspec": {
   "display_name": "Python 3.9.7 ('base')",
   "language": "python",
   "name": "python3"
  },
  "language_info": {
   "codemirror_mode": {
    "name": "ipython",
    "version": 3
   },
   "file_extension": ".py",
   "mimetype": "text/x-python",
   "name": "python",
   "nbconvert_exporter": "python",
   "pygments_lexer": "ipython3",
   "version": "3.9.7"
  },
  "orig_nbformat": 4
 },
 "nbformat": 4,
 "nbformat_minor": 2
}
