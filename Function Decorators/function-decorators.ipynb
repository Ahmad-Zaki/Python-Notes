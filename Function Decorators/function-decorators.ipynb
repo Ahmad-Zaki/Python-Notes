{
 "cells": [
  {
   "cell_type": "markdown",
   "metadata": {},
   "source": [
    "# Function Decorators   <a href=\"https://colab.research.google.com/github/Ahmad-Zaki/Python-Notes/blob/main/Function%20Decorators/function-decorators.ipynb\"><img src=\"https://colab.research.google.com/assets/colab-badge.svg\" alt=\"Open in Colab\" title=\"Open and Execute in Google Colaboratory\"></a>"
   ]
  },
  {
   "cell_type": "markdown",
   "metadata": {},
   "source": [
    "## Introduction"
   ]
  },
  {
   "cell_type": "markdown",
   "metadata": {},
   "source": [
    "In Python, a decorator is a function that takes another function and extends the behavior of the latter function without explicitly modifying it.\n",
    "\n",
    "If you didn't know: everything in python, including functions, are objects. Functions have attributes, can be assigned to variables, and even passed as arguments to (or returned from) other functions! This behavior is what allows us to use decorators in Python to add new functionality to an existing function without modifying its structure.\n",
    "\n",
    "Before jumping straight to decorators, it is essential to understand this concept in order to understand how decorators work. Therefore, we'll go through some examples first and then start looking into decorators."
   ]
  },
  {
   "cell_type": "markdown",
   "metadata": {},
   "source": [
    "## Functions as objects"
   ]
  },
  {
   "cell_type": "markdown",
   "metadata": {},
   "source": [
    "Functions and methods are objects of type **`callable`** as they can be called. In fact, any object which implements the magic method (`__call__`) is a callable object.\n",
    "\n",
    "In the following sections, we will see the properties of callable objects and how it is utilized by decorators."
   ]
  },
  {
   "cell_type": "markdown",
   "metadata": {},
   "source": [
    "### Assigning Functions to Variables"
   ]
  },
  {
   "cell_type": "markdown",
   "metadata": {},
   "source": [
    "In the following examples, we will see how a function can be assigned to a variable, and use this variable to call the function. "
   ]
  },
  {
   "cell_type": "code",
   "execution_count": 1,
   "metadata": {},
   "outputs": [
    {
     "name": "stdout",
     "output_type": "stream",
     "text": [
      "This is my own printing function!\n"
     ]
    }
   ],
   "source": [
    "my_print_function = print\n",
    "\n",
    "my_print_function(\"This is my own printing function!\")"
   ]
  },
  {
   "cell_type": "code",
   "execution_count": 2,
   "metadata": {},
   "outputs": [
    {
     "data": {
      "text/plain": [
       "6"
      ]
     },
     "execution_count": 2,
     "metadata": {},
     "output_type": "execute_result"
    }
   ],
   "source": [
    "def plus_one(number = 10):\n",
    "    \"\"\"Takes a number, add 1 to it, then returns it.\n",
    "    \n",
    "    Parameters\n",
    "    ----------\n",
    "    number:\n",
    "        the number to which a one will be added.\n",
    "        \n",
    "    Returns\n",
    "    -------\n",
    "    number + 1\n",
    "    \"\"\"\n",
    "    return number + 1\n",
    "\n",
    "add_one = plus_one\n",
    "add_one(5)"
   ]
  },
  {
   "cell_type": "markdown",
   "metadata": {},
   "source": [
    "A function carry many attributes, like its name, docs, default arguments, ...etc. All these attributes can be accessed like this:"
   ]
  },
  {
   "cell_type": "code",
   "execution_count": 3,
   "metadata": {},
   "outputs": [
    {
     "name": "stdout",
     "output_type": "stream",
     "text": [
      "plus_one\n",
      "Takes a number, add 1 to it, then returns it.\n",
      "    \n",
      "    Parameters\n",
      "    ----------\n",
      "    number:\n",
      "        the number to which a one will be added.\n",
      "        \n",
      "    Returns\n",
      "    -------\n",
      "    number + 1\n",
      "    \n",
      "(10,)\n"
     ]
    }
   ],
   "source": [
    "print(plus_one.__name__)\n",
    "print(add_one.__doc__)\n",
    "print(add_one.__defaults__)"
   ]
  },
  {
   "cell_type": "markdown",
   "metadata": {},
   "source": [
    "### Passing functions as arguments"
   ]
  },
  {
   "cell_type": "markdown",
   "metadata": {},
   "source": [
    "Functions can be passed to other functions just like any other object. This allows us to create more dynamic functions without much effort. "
   ]
  },
  {
   "cell_type": "code",
   "execution_count": 4,
   "metadata": {},
   "outputs": [
    {
     "name": "stdout",
     "output_type": "stream",
     "text": [
      "43\n",
      "41\n"
     ]
    }
   ],
   "source": [
    "def plus_one(num):\n",
    "    return num + 1\n",
    "\n",
    "def minus_one(num):\n",
    "    return num - 1\n",
    "\n",
    "def operation(num, func):\n",
    "    return func(num)\n",
    "\n",
    "print(operation(42, plus_one))\n",
    "print(operation(42, minus_one))     "
   ]
  },
  {
   "cell_type": "markdown",
   "metadata": {},
   "source": [
    "## Nested Functions"
   ]
  },
  {
   "cell_type": "markdown",
   "metadata": {},
   "source": [
    "In python, a Nested function is and function that is contained inside another function. This is done simply by defining a function directly inside the body of another function:"
   ]
  },
  {
   "cell_type": "code",
   "execution_count": 5,
   "metadata": {},
   "outputs": [
    {
     "data": {
      "text/plain": [
       "12"
      ]
     },
     "execution_count": 5,
     "metadata": {},
     "output_type": "execute_result"
    }
   ],
   "source": [
    "def operation(num):\n",
    "    def plus_one():\n",
    "        return num + 1\n",
    "    result = plus_one()\n",
    "    return result\n",
    "\n",
    "operation(11)"
   ]
  },
  {
   "cell_type": "markdown",
   "metadata": {},
   "source": [
    "Have you noticed that even though we didn't define the variable `num` inside `plus_one`, it still worked just fine? this is because nested functions have access to the scope of their enclosing function (also known as the *non-local scope*). This behavior is critical in decorators, as we'll see later. "
   ]
  },
  {
   "cell_type": "markdown",
   "metadata": {},
   "source": [
    "We can also return a nested function instead of directly using it in the enclosing function:"
   ]
  },
  {
   "cell_type": "code",
   "execution_count": 6,
   "metadata": {},
   "outputs": [
    {
     "name": "stdout",
     "output_type": "stream",
     "text": [
      "hello! hello! hello! hello! hello! \n"
     ]
    }
   ],
   "source": [
    "def foo():\n",
    "    a = 5\n",
    "\n",
    "    def hi():\n",
    "        print(\"hello! \" * a)\n",
    "\n",
    "    return hi\n",
    "\n",
    "func = foo()\n",
    "func()"
   ]
  },
  {
   "cell_type": "markdown",
   "metadata": {},
   "source": [
    "Notice that the execution of `hi` depends on the non-local variable `a`. but since `foo` has already completed its execution before calling `hi`, `a` is no longer available in memory! then how does it work?\n",
    "\n",
    "This is where **Closures** come to the rescue!"
   ]
  },
  {
   "cell_type": "markdown",
   "metadata": {},
   "source": [
    "## Function Closure"
   ]
  },
  {
   "cell_type": "markdown",
   "metadata": {},
   "source": [
    "A Closure is a function object that remembers values in enclosing scopes even if they are not present in memory. we can access the closure of `hi` to see what it contains:"
   ]
  },
  {
   "cell_type": "code",
   "execution_count": 7,
   "metadata": {},
   "outputs": [
    {
     "name": "stdout",
     "output_type": "stream",
     "text": [
      "<class 'tuple'>\n",
      "1\n",
      "<cell at 0x000002B970940A00: int object at 0x000002B96ACA69B0>\n",
      "5\n"
     ]
    }
   ],
   "source": [
    "print(type(func.__closure__))\n",
    "print(len(func.__closure__))\n",
    "print(func.__closure__[0])\n",
    "print(func.__closure__[0].cell_contents)"
   ]
  },
  {
   "cell_type": "markdown",
   "metadata": {},
   "source": [
    "We can see that the closure of `hi` is a tuple that contains one cell. This cell has the value of the non-local variable `a`, which `hi` needs in order to work properly."
   ]
  },
  {
   "cell_type": "markdown",
   "metadata": {},
   "source": [
    "## Decorators"
   ]
  },
  {
   "cell_type": "markdown",
   "metadata": {},
   "source": [
    "Now that we know how functions operate in Python and how to deal with functions as objects, we can go ahead and explore *Decorators*. A Decorator is simply a function that wraps other functions to modify their inputs, outputs, or functionalities.\n",
    "\n",
    "Consider the simple function `say_hi`, which returns \"Welcome to my notebook!\""
   ]
  },
  {
   "cell_type": "code",
   "execution_count": 8,
   "metadata": {},
   "outputs": [
    {
     "data": {
      "text/plain": [
       "'Welcome to my notebook!'"
      ]
     },
     "execution_count": 8,
     "metadata": {},
     "output_type": "execute_result"
    }
   ],
   "source": [
    "def say_hi():\n",
    "    return \"Welcome to my notebook!\"\n",
    "\n",
    "say_hi()"
   ]
  },
  {
   "cell_type": "markdown",
   "metadata": {},
   "source": [
    "What if we want this function to return an upper-cased string instead? In this simple example, we can directly change its output, but decorators provide another way to do it without touching the original function at all!"
   ]
  },
  {
   "cell_type": "code",
   "execution_count": 9,
   "metadata": {},
   "outputs": [],
   "source": [
    "def uppercase(function: callable):\n",
    "\n",
    "    def wrapper():\n",
    "        output = function()\n",
    "        make_uppercase = output.upper()\n",
    "        return make_uppercase\n",
    "\n",
    "    return wrapper"
   ]
  },
  {
   "cell_type": "markdown",
   "metadata": {},
   "source": [
    "Our `uppercase` decorator takes a function as an argument, this is the function we want to modify. We can see a nested function called `wrapper` inside the decorator. This is where the magic happens: it calls the function we passed to the decorator, executes it to get its output, and modifies the output before returning it. Finally, the decorator returns the `wrapper` function, and this is the function that we'll work with.\n",
    "\n",
    "Notice that decorators cover all the concepts we went through in the previous sections: it takes a function as an argument, creates a nested function, and returns a function. This is why it was important to understand them well in order to comprehend how decorators work.\n",
    "\n",
    "Let's try our decorator on `say_hi` to see if it works:"
   ]
  },
  {
   "cell_type": "code",
   "execution_count": 10,
   "metadata": {},
   "outputs": [
    {
     "data": {
      "text/plain": [
       "'WELCOME TO MY NOTEBOOK!'"
      ]
     },
     "execution_count": 10,
     "metadata": {},
     "output_type": "execute_result"
    }
   ],
   "source": [
    "hi_function = uppercase(say_hi)\n",
    "\n",
    "hi_function()"
   ]
  },
  {
   "cell_type": "markdown",
   "metadata": {},
   "source": [
    "Remember that `hi_function` is actually the `wrapper` function that the decorator created and returned. Since `wrapper` needs `say_hi` in order to work properly, we can find `say_hi` stored in its closure:"
   ]
  },
  {
   "cell_type": "code",
   "execution_count": 11,
   "metadata": {},
   "outputs": [
    {
     "data": {
      "text/plain": [
       "'wrapper'"
      ]
     },
     "execution_count": 11,
     "metadata": {},
     "output_type": "execute_result"
    }
   ],
   "source": [
    "hi_function.__name__"
   ]
  },
  {
   "cell_type": "code",
   "execution_count": 12,
   "metadata": {},
   "outputs": [
    {
     "data": {
      "text/plain": [
       "<function __main__.say_hi()>"
      ]
     },
     "execution_count": 12,
     "metadata": {},
     "output_type": "execute_result"
    }
   ],
   "source": [
    "hi_function.__closure__[0].cell_contents"
   ]
  },
  {
   "cell_type": "markdown",
   "metadata": {},
   "source": [
    "Another way to apply a decorator to a function is to *decorate* that function definition with a decorator:"
   ]
  },
  {
   "cell_type": "code",
   "execution_count": 13,
   "metadata": {},
   "outputs": [
    {
     "data": {
      "text/plain": [
       "'WELCOME TO MY NOTEBOOK!'"
      ]
     },
     "execution_count": 13,
     "metadata": {},
     "output_type": "execute_result"
    }
   ],
   "source": [
    "@uppercase\n",
    "def say_hi():\n",
    "    return \"Welcome to my notebook!\"\n",
    "\n",
    "say_hi()"
   ]
  },
  {
   "cell_type": "markdown",
   "metadata": {},
   "source": [
    "It's important to emphasize that once we decorate a function, we won't be working with that function anymore, and instead, we'll be working with the `wrapper` function. This means that we won't be able to access the metadata of the original function (name, docs, defaults, ... etc), which may complicate debugging the code."
   ]
  },
  {
   "cell_type": "code",
   "execution_count": 14,
   "metadata": {},
   "outputs": [
    {
     "name": "stdout",
     "output_type": "stream",
     "text": [
      "say_hi\n",
      "Returns a welcoming senctence\n"
     ]
    }
   ],
   "source": [
    "#Original Function:\n",
    "def say_hi():\n",
    "    \"\"\"Returns a welcoming senctence\"\"\"\n",
    "    return \"Welcome to my notebook!\"\n",
    "\n",
    "print(say_hi.__name__)\n",
    "print(say_hi.__doc__)"
   ]
  },
  {
   "cell_type": "code",
   "execution_count": 15,
   "metadata": {},
   "outputs": [
    {
     "name": "stdout",
     "output_type": "stream",
     "text": [
      "wrapper\n",
      "None\n"
     ]
    }
   ],
   "source": [
    "#Decorated Function:\n",
    "@uppercase\n",
    "def say_hi():\n",
    "    \"\"\"Returns a welcoming senctence\"\"\"\n",
    "    return \"Welcome to my notebook!\"\n",
    "\n",
    "print(say_hi.__name__)\n",
    "print(say_hi.__doc__)"
   ]
  },
  {
   "cell_type": "markdown",
   "metadata": {},
   "source": [
    "In order to fix this behavior, we could manually change all `wrapper` attributes to be the same as our original function. Luckily, Python `functools` module offers an easier way to fix it:"
   ]
  },
  {
   "cell_type": "code",
   "execution_count": 16,
   "metadata": {},
   "outputs": [],
   "source": [
    "from functools import wraps\n",
    "\n",
    "def uppercase(function: callable):\n",
    "\n",
    "    @wraps(function)\n",
    "    def wrapper():\n",
    "        output = function()\n",
    "        make_uppercase = output.upper()\n",
    "        return make_uppercase\n",
    "    \n",
    "    return wrapper"
   ]
  },
  {
   "cell_type": "markdown",
   "metadata": {},
   "source": [
    "`wraps` decorates `wrapper` and takes `function` as an argument in order to change `wrapper` metadata to be the same as `function` metadata."
   ]
  },
  {
   "cell_type": "code",
   "execution_count": 17,
   "metadata": {},
   "outputs": [
    {
     "name": "stdout",
     "output_type": "stream",
     "text": [
      "say_hi\n",
      "Returns a welcoming senctence\n"
     ]
    }
   ],
   "source": [
    "@uppercase\n",
    "def say_hi():\n",
    "    \"\"\"Returns a welcoming senctence\"\"\"\n",
    "    return \"Welcome to my notebook!\"\n",
    "\n",
    "print(say_hi.__name__)\n",
    "print(say_hi.__doc__)"
   ]
  },
  {
   "cell_type": "markdown",
   "metadata": {},
   "source": [
    "It is advisable and good practice to always use `functools.wraps` when defining decorators. It will save you a lot of headaches in debugging."
   ]
  },
  {
   "cell_type": "markdown",
   "metadata": {},
   "source": [
    "## Real-world examples"
   ]
  },
  {
   "cell_type": "markdown",
   "metadata": {},
   "source": [
    "So far we have seen a simple example on decorators. In fact, decorators can be used to add very useful functionalities to functions without adding or changing any line of code in their bodies.\n",
    "\n",
    "For example, consider the following `timer` decorator, which records and prints how long a function takes to run."
   ]
  },
  {
   "cell_type": "code",
   "execution_count": 18,
   "metadata": {},
   "outputs": [],
   "source": [
    "import time\n",
    "def timer(func: callable):\n",
    "    \"\"\"A decorator that prints how long a function took to run.\"\"\"\n",
    "    \n",
    "    # Define the wrapper function to return.\n",
    "    # Notice that it is defined with the general-purpose *args and **kwargs in order to be compatible with any function.\n",
    "    @wraps(func)\n",
    "    def wrapper(*args, **kwargs):\n",
    "        # When wrapper() is called, get the current time.\n",
    "        t_start = time.time()\n",
    "\n",
    "        # Call the decorated function and store the result.\n",
    "        result = func(*args, **kwargs)\n",
    "\n",
    "        # Get the total time it took to run, and print it.\n",
    "        t_total = time.time() - t_start\n",
    "        \n",
    "        print(f'{func.__name__} took {t_total}s')\n",
    "        return result\n",
    "\n",
    "    return wrapper"
   ]
  },
  {
   "cell_type": "code",
   "execution_count": 19,
   "metadata": {},
   "outputs": [],
   "source": [
    "@timer\n",
    "def sleep_n_seconds(n):\n",
    "    time.sleep(n)"
   ]
  },
  {
   "cell_type": "code",
   "execution_count": 20,
   "metadata": {},
   "outputs": [
    {
     "name": "stdout",
     "output_type": "stream",
     "text": [
      "sleep_n_seconds took 5.0013885498046875s\n"
     ]
    }
   ],
   "source": [
    "sleep_n_seconds(5)"
   ]
  },
  {
   "cell_type": "code",
   "execution_count": 21,
   "metadata": {},
   "outputs": [
    {
     "name": "stdout",
     "output_type": "stream",
     "text": [
      "sleep_n_seconds took 10.012671947479248s\n"
     ]
    }
   ],
   "source": [
    "sleep_n_seconds(10)"
   ]
  },
  {
   "cell_type": "markdown",
   "metadata": {},
   "source": [
    "Another useful example is the `memoize` decorator, which stores the output of a function for specific arguments. This can be very helpful if your function takes too long to execute and you need to use it with the same arguments multiple times."
   ]
  },
  {
   "cell_type": "code",
   "execution_count": 22,
   "metadata": {},
   "outputs": [],
   "source": [
    "def memoize(func):\n",
    "    \"\"\"Store the results of the decorated function for fast lookup\"\"\"\n",
    "\n",
    "    # Store results in a dict that maps arguments to results\n",
    "    cache = {}\n",
    "\n",
    "    # Define the wrapper function to return.\n",
    "    @wraps(func)\n",
    "    def wrapper(*args, **kwargs):\n",
    "        # If these arguments haven't been seen before, call func() and store the result.\n",
    "        # kwargs is ignored because dictionaries are not hashable.\n",
    "        if args not in cache:\n",
    "            cache[args] = func(*args, **kwargs)\n",
    "\n",
    "        return cache[args]\n",
    "\n",
    "    return wrapper"
   ]
  },
  {
   "cell_type": "code",
   "execution_count": 23,
   "metadata": {},
   "outputs": [],
   "source": [
    "@timer\n",
    "@memoize\n",
    "def first_n(n: int):\n",
    "    num = 0\n",
    "    nums = []\n",
    "    while num < n:\n",
    "        nums.append(num)\n",
    "        num += 1\n",
    "    return nums"
   ]
  },
  {
   "cell_type": "code",
   "execution_count": 24,
   "metadata": {},
   "outputs": [
    {
     "name": "stdout",
     "output_type": "stream",
     "text": [
      "first_n took 1.53005051612854s\n"
     ]
    }
   ],
   "source": [
    "result = first_n(10_000_000)"
   ]
  },
  {
   "cell_type": "code",
   "execution_count": 25,
   "metadata": {},
   "outputs": [
    {
     "name": "stdout",
     "output_type": "stream",
     "text": [
      "first_n took 0.0s\n"
     ]
    }
   ],
   "source": [
    "result = first_n(10_000_000)"
   ]
  },
  {
   "cell_type": "markdown",
   "metadata": {},
   "source": [
    "## Decorators that take arguments"
   ]
  },
  {
   "cell_type": "markdown",
   "metadata": {},
   "source": [
    "Sometimes, it’s useful to pass arguments to your decorators. For instance, a `@do_twice` decorator that executes a function twice, could be extended to be a `@do_n_times(n)` decorator. The number of times to execute the decorated function could then be given as an argument.\n",
    "\n",
    "We know that decorators are functions that return other functions, but how about making a function that returns a decorator? \n",
    "\n",
    "Since decorators are just functions, it is possible to make a **decorator factory**: a function that creates and returns functions that act as a decorator. Let's see how we can do it."
   ]
  },
  {
   "cell_type": "code",
   "execution_count": 26,
   "metadata": {},
   "outputs": [],
   "source": [
    "def do_n_times(n):\n",
    "    \"\"\"Define and return a decorator\"\"\"\n",
    "\n",
    "    def decorator(func):\n",
    "        \"\"\"A Decorator\"\"\"\n",
    "\n",
    "        def wrapper(*args, **kwargs):\n",
    "            \"\"\"A Wrapper\"\"\"\n",
    "            for i in range(n):\n",
    "                func(*args, **kwargs)\n",
    "\n",
    "        return wrapper\n",
    "        \n",
    "    return decorator"
   ]
  },
  {
   "cell_type": "markdown",
   "metadata": {},
   "source": [
    "Calling `@do_n_times(n)` will return `decorator` that repeats a function n times, which is exactly what we wanted."
   ]
  },
  {
   "cell_type": "code",
   "execution_count": 27,
   "metadata": {},
   "outputs": [
    {
     "name": "stdout",
     "output_type": "stream",
     "text": [
      "Welcome to my notebook!\n",
      "Welcome to my notebook!\n",
      "Welcome to my notebook!\n"
     ]
    }
   ],
   "source": [
    "@do_n_times(3)\n",
    "def say_hi():\n",
    "    print(\"Welcome to my notebook!\")\n",
    "\n",
    "say_hi()"
   ]
  },
  {
   "cell_type": "code",
   "execution_count": 28,
   "metadata": {},
   "outputs": [
    {
     "name": "stdout",
     "output_type": "stream",
     "text": [
      "Welcome to my notebook!\n",
      "Welcome to my notebook!\n",
      "Welcome to my notebook!\n",
      "Welcome to my notebook!\n",
      "Welcome to my notebook!\n"
     ]
    }
   ],
   "source": [
    "@do_n_times(5)\n",
    "def say_hi():\n",
    "    print(\"Welcome to my notebook!\")\n",
    "\n",
    "say_hi()"
   ]
  },
  {
   "cell_type": "markdown",
   "metadata": {},
   "source": [
    "## Summary"
   ]
  },
  {
   "cell_type": "markdown",
   "metadata": {},
   "source": [
    "Decorators dynamically alter the functionality of a function, method, or class without having to directly use subclasses or change the source code of the function being decorated. Using decorators in Python also ensures that your code is **DRY** (Don't Repeat Yourself). Decorators have several use cases such as:\n",
    "\n",
    "- Authorization in Python frameworks such as Flask and Django\n",
    "- Logging\n",
    "- Measuring execution time\n",
    "- Synchronization"
   ]
  },
  {
   "cell_type": "markdown",
   "metadata": {},
   "source": [
    "To learn more about Python decorators check out <a href=\"https://realpython.com/primer-on-python-decorators/\">Primer on Python Decorators</a>.\n",
    "\n",
    "For more examples on Python decorators chech out <a href=\"https://wiki.python.org/moin/PythonDecoratorLibrary\">Python's Decorator Library</a>."
   ]
  }
 ],
 "metadata": {
  "interpreter": {
   "hash": "ec26fe652b81aa16e73f5f2489daa0bd9f355124f013eb8138d239f76af89ec7"
  },
  "kernelspec": {
   "display_name": "Python 3.9.7 ('base')",
   "language": "python",
   "name": "python3"
  },
  "language_info": {
   "codemirror_mode": {
    "name": "ipython",
    "version": 3
   },
   "file_extension": ".py",
   "mimetype": "text/x-python",
   "name": "python",
   "nbconvert_exporter": "python",
   "pygments_lexer": "ipython3",
   "version": "3.9.7"
  },
  "orig_nbformat": 4
 },
 "nbformat": 4,
 "nbformat_minor": 2
}
