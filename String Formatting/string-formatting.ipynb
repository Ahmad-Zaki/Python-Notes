{
 "cells": [
  {
   "cell_type": "markdown",
   "metadata": {},
   "source": [
    "# Python String Formatting   <a href=\"https://colab.research.google.com/github/Ahmad-Zaki/Python-Notes/blob/main/String%20Formatting/string-formatting.ipynb\"><img src=\"https://colab.research.google.com/assets/colab-badge.svg\" alt=\"Open in Colab\" title=\"Open and Execute in Google Colaboratory\"></a>"
   ]
  },
  {
   "cell_type": "markdown",
   "metadata": {},
   "source": [
    "## Introduction <a class=\"anchor\" id=\"introduction\"></a>"
   ]
  },
  {
   "cell_type": "markdown",
   "metadata": {},
   "source": [
    "Python has had an awesome sting formatter for a while but their official documentation on it is not very straightforward and far too technical. In this notebook, we'll go through some of the most common use-cases of string formatting in Python and see how flexible formatted string can be!\n",
    "\n",
    "There are two ways in Python to format a string. The old way uses the `%` formatter, while the new, more convenient method uses the `.format` method of the string or directly writing a formatted string using `f-strings`."
   ]
  },
  {
   "cell_type": "markdown",
   "metadata": {},
   "source": [
    "## Table of Contents:\n",
    "- [Introduction](#introduction)\n",
    "- [Basic Formatting](#basic-formatting)\n",
    "- [Named placeholders](#named-placeholders)\n",
    "- [Getitem and Getattr](#getitem-and-getattr)\n",
    "- [Value Conversion](#value-conversion)\n",
    "- [Padding and Alignment](#padding-and-alignment)\n",
    "- [Truncating Strings](#truncating-strings)\n",
    "- [Numbers](#numbers)\n",
    "- [Datetime](#datetime)\n",
    "- [Parametrized Formatting](#parametrized-formatting)\n",
    "- [Custom Formatting](#custom-formatting)"
   ]
  },
  {
   "cell_type": "markdown",
   "metadata": {},
   "source": [
    "## Basic Formatting <a class=\"anchor\" id=\"basic-formatting\"></a>"
   ]
  },
  {
   "cell_type": "markdown",
   "metadata": {},
   "source": [
    "Simple positional formatting is probably the most common use-case. Use it if the order of your arguments is not likely to change and you only have very few elements you want to concatenate.\n",
    "\n",
    "Since the elements are not represented by something as descriptive as a name this simple style should only be used to format a relatively small number of elements."
   ]
  },
  {
   "cell_type": "markdown",
   "metadata": {},
   "source": [
    "### Example"
   ]
  },
  {
   "cell_type": "code",
   "execution_count": 1,
   "metadata": {},
   "outputs": [],
   "source": [
    "s1 = 'one'\n",
    "s2 = 'two'\n",
    "n1 = 1\n",
    "n2 = 2"
   ]
  },
  {
   "cell_type": "markdown",
   "metadata": {},
   "source": [
    "##### Old Style"
   ]
  },
  {
   "cell_type": "code",
   "execution_count": 2,
   "metadata": {},
   "outputs": [
    {
     "name": "stdout",
     "output_type": "stream",
     "text": [
      "one two\n",
      "1 2\n"
     ]
    }
   ],
   "source": [
    "print('%s %s' % (s1, s2))\n",
    "print('%d %d' % (n1, n2))"
   ]
  },
  {
   "cell_type": "markdown",
   "metadata": {},
   "source": [
    "#### New Style"
   ]
  },
  {
   "cell_type": "code",
   "execution_count": 3,
   "metadata": {},
   "outputs": [
    {
     "name": "stdout",
     "output_type": "stream",
     "text": [
      "one two\n",
      "1 2\n"
     ]
    }
   ],
   "source": [
    "# Using '.format' method:\n",
    "print('{} {}'.format(s1, s2))\n",
    "print('{} {}'.format(n1, n2))"
   ]
  },
  {
   "cell_type": "code",
   "execution_count": 4,
   "metadata": {},
   "outputs": [
    {
     "name": "stdout",
     "output_type": "stream",
     "text": [
      "one two\n",
      "1 2\n"
     ]
    }
   ],
   "source": [
    "# Using f-strings:\n",
    "print(f'{s1} {s2}')\n",
    "print(f'{n1} {n2}')"
   ]
  },
  {
   "cell_type": "markdown",
   "metadata": {},
   "source": [
    "With the new style, we can even specify the position of each variable in the string. This allows us to re-arrange the order of the display without changing the arguments. "
   ]
  },
  {
   "cell_type": "code",
   "execution_count": 5,
   "metadata": {},
   "outputs": [
    {
     "name": "stdout",
     "output_type": "stream",
     "text": [
      "two one\n"
     ]
    }
   ],
   "source": [
    "print('{1} {0}'.format(s1, s2))"
   ]
  },
  {
   "cell_type": "markdown",
   "metadata": {},
   "source": [
    "## Named placeholders <a class=\"anchor\" id=\"named-placeholders\"></a>"
   ]
  },
  {
   "cell_type": "markdown",
   "metadata": {},
   "source": [
    "Both formatting styles support named placeholders."
   ]
  },
  {
   "cell_type": "markdown",
   "metadata": {},
   "source": [
    "### Example"
   ]
  },
  {
   "cell_type": "code",
   "execution_count": 6,
   "metadata": {},
   "outputs": [],
   "source": [
    "example = {'first_name': 'Ahmad', 'last_name': 'Elkholi'}"
   ]
  },
  {
   "cell_type": "markdown",
   "metadata": {},
   "source": [
    "##### Old Style"
   ]
  },
  {
   "cell_type": "code",
   "execution_count": 7,
   "metadata": {},
   "outputs": [
    {
     "name": "stdout",
     "output_type": "stream",
     "text": [
      "Full name: Ahmad Elkholi\n"
     ]
    }
   ],
   "source": [
    "print('Full name: %(first_name)s %(last_name)s' % example)"
   ]
  },
  {
   "cell_type": "markdown",
   "metadata": {},
   "source": [
    "#### New Style"
   ]
  },
  {
   "cell_type": "code",
   "execution_count": 8,
   "metadata": {},
   "outputs": [
    {
     "name": "stdout",
     "output_type": "stream",
     "text": [
      "Full name: Ahmad Elkholi\n"
     ]
    }
   ],
   "source": [
    "print('Full name: {first_name} {last_name}'.format(**example))"
   ]
  },
  {
   "cell_type": "markdown",
   "metadata": {},
   "source": [
    "`.format()` can accept keyword arguments as well:"
   ]
  },
  {
   "cell_type": "code",
   "execution_count": 9,
   "metadata": {},
   "outputs": [
    {
     "name": "stdout",
     "output_type": "stream",
     "text": [
      "Full name: Ahmad Elkholi\n"
     ]
    }
   ],
   "source": [
    "print('Full name: {first_name} {last_name}'.format(first_name='Ahmad', last_name='Elkholi'))"
   ]
  },
  {
   "cell_type": "markdown",
   "metadata": {},
   "source": [
    "## Getitem and Getattr <a class=\"anchor\" id=\"getitem-and-getattr\"></a>"
   ]
  },
  {
   "cell_type": "markdown",
   "metadata": {},
   "source": [
    "New style formatting allows even greater flexibility in accessing nested data structures.\n",
    "\n",
    "It supports accessing containers that support <a href=\"https://docs.python.org/3/reference/datamodel.html#object.__getitem__\">`__getitem__`</a> or <a href=\"https://docs.python.org/3/reference/datamodel.html#object.__getattr__\">`__getattr__`</a>:"
   ]
  },
  {
   "cell_type": "markdown",
   "metadata": {},
   "source": [
    "### Example"
   ]
  },
  {
   "cell_type": "code",
   "execution_count": 10,
   "metadata": {},
   "outputs": [],
   "source": [
    "dec = {'first_name': 'Ahmad', 'last_name': 'Elkholi'}\n",
    "\n",
    "lst = ['a', 'b', 'c', 'd', 'e', 'f', 'g']\n",
    "\n",
    "class Plant:\n",
    "    name = 'palm tree'"
   ]
  },
  {
   "cell_type": "markdown",
   "metadata": {},
   "source": [
    "##### Old Style\n",
    "\n",
    "This isn't possible with the old style."
   ]
  },
  {
   "cell_type": "markdown",
   "metadata": {},
   "source": [
    "#### New Style"
   ]
  },
  {
   "cell_type": "code",
   "execution_count": 11,
   "metadata": {},
   "outputs": [
    {
     "name": "stdout",
     "output_type": "stream",
     "text": [
      "Full name: Ahmad Elkholi\n",
      "c f\n",
      "palm tree\n"
     ]
    }
   ],
   "source": [
    "print('Full name: {d[first_name]} {d[last_name]}'.format(d=dec))\n",
    "print('{l[2]} {l[5]}'.format(l=lst))\n",
    "print('{c.name}'.format(c=Plant()))"
   ]
  },
  {
   "cell_type": "markdown",
   "metadata": {},
   "source": [
    "## Value Conversion <a class=\"anchor\" id=\"value-conversion\"></a>"
   ]
  },
  {
   "cell_type": "markdown",
   "metadata": {},
   "source": [
    "The new style simple formatter calls by default the <a href=\"https://docs.python.org/3/reference/datamodel.html#object.__format__\">`__format__()`</a>  method of an object for its representation. If we want to render the output of `str()` or `repr()` you can use the `!s` or `!r` conversion flags.\n",
    "\n",
    "With the `%` formatter we can use `%s` for the string representation and `%r` for a `repr()` conversion."
   ]
  },
  {
   "cell_type": "markdown",
   "metadata": {},
   "source": [
    "### Example"
   ]
  },
  {
   "cell_type": "code",
   "execution_count": 12,
   "metadata": {},
   "outputs": [],
   "source": [
    "class Example:\n",
    "    def __str__(self):\n",
    "        return 'example_str'\n",
    "\n",
    "    def __repr__(self):\n",
    "        return 'example_repr'"
   ]
  },
  {
   "cell_type": "markdown",
   "metadata": {},
   "source": [
    "##### Old Style"
   ]
  },
  {
   "cell_type": "code",
   "execution_count": 13,
   "metadata": {},
   "outputs": [
    {
     "name": "stdout",
     "output_type": "stream",
     "text": [
      "str: example_str, repr: example_repr\n"
     ]
    }
   ],
   "source": [
    "print('str: %s, repr: %r' % (Example(), Example()))"
   ]
  },
  {
   "cell_type": "markdown",
   "metadata": {},
   "source": [
    "#### New Style"
   ]
  },
  {
   "cell_type": "code",
   "execution_count": 14,
   "metadata": {},
   "outputs": [
    {
     "name": "stdout",
     "output_type": "stream",
     "text": [
      "str: example_str, repr: example_repr\n"
     ]
    }
   ],
   "source": [
    "print('str: {0!s}, repr: {0!r}'.format(Example()))"
   ]
  },
  {
   "cell_type": "markdown",
   "metadata": {},
   "source": [
    "## Padding and Alignment <a class=\"anchor\" id=\"padding-and-alignment\"></a>"
   ]
  },
  {
   "cell_type": "markdown",
   "metadata": {},
   "source": [
    "By default values are formatted to take up only as many characters as needed to represent the content. It is however also possible to define that a value should be padded to a specific length."
   ]
  },
  {
   "cell_type": "markdown",
   "metadata": {},
   "source": [
    "### Example"
   ]
  },
  {
   "cell_type": "code",
   "execution_count": 15,
   "metadata": {},
   "outputs": [],
   "source": [
    "test = 'test'"
   ]
  },
  {
   "cell_type": "markdown",
   "metadata": {},
   "source": [
    "##### Old Style"
   ]
  },
  {
   "cell_type": "code",
   "execution_count": 16,
   "metadata": {},
   "outputs": [
    {
     "name": "stdout",
     "output_type": "stream",
     "text": [
      "left Padding:      test.\n",
      "right Padding:test      .\n"
     ]
    }
   ],
   "source": [
    "print('left Padding:%10s.' % (test))\n",
    "print('right Padding:%-10s.' % (test))"
   ]
  },
  {
   "cell_type": "markdown",
   "metadata": {},
   "source": [
    "#### New Style"
   ]
  },
  {
   "cell_type": "code",
   "execution_count": 17,
   "metadata": {},
   "outputs": [
    {
     "name": "stdout",
     "output_type": "stream",
     "text": [
      "left Padding:      test.\n",
      "right Padding:test      .\n"
     ]
    }
   ],
   "source": [
    "print('left Padding:{:>10}.'.format(test))\n",
    "print('right Padding:{:<10}.'.format(test))"
   ]
  },
  {
   "cell_type": "markdown",
   "metadata": {},
   "source": [
    "The new style provides more control over the padded values and alignment:"
   ]
  },
  {
   "cell_type": "code",
   "execution_count": 18,
   "metadata": {},
   "outputs": [
    {
     "name": "stdout",
     "output_type": "stream",
     "text": [
      "pad with \"#\":test######.\n",
      "center alignment:   test   .\n"
     ]
    }
   ],
   "source": [
    "#pad with '#' instead of ' ':\n",
    "print(f'pad with \"#\":{test:#<10}.')\n",
    "\n",
    "#align at center:\n",
    "print(f'center alignment:{test:^10}.')"
   ]
  },
  {
   "cell_type": "markdown",
   "metadata": {},
   "source": [
    "## Truncating Strings <a class=\"anchor\" id=\"truncating-strings\"></a>"
   ]
  },
  {
   "cell_type": "markdown",
   "metadata": {},
   "source": [
    "We can limit the length of any string by truncating its value to a specific number of characters.\n",
    "\n",
    "to truncate a string, we can use the `.n` flag, where `n` is replaced by a number that indicates the maximum length allowed for that string. "
   ]
  },
  {
   "cell_type": "markdown",
   "metadata": {},
   "source": [
    "### Example"
   ]
  },
  {
   "cell_type": "code",
   "execution_count": 19,
   "metadata": {},
   "outputs": [],
   "source": [
    "s = 'Hemoglobin'"
   ]
  },
  {
   "cell_type": "markdown",
   "metadata": {},
   "source": [
    "##### Old Style"
   ]
  },
  {
   "cell_type": "code",
   "execution_count": 20,
   "metadata": {},
   "outputs": [
    {
     "name": "stdout",
     "output_type": "stream",
     "text": [
      "Hemog\n"
     ]
    }
   ],
   "source": [
    "# limit a string to length 5:\n",
    "print('%.5s' % (s))"
   ]
  },
  {
   "cell_type": "markdown",
   "metadata": {},
   "source": [
    "#### New Style"
   ]
  },
  {
   "cell_type": "code",
   "execution_count": 21,
   "metadata": {},
   "outputs": [
    {
     "name": "stdout",
     "output_type": "stream",
     "text": [
      "Hemog\n"
     ]
    }
   ],
   "source": [
    "print(f'{s:.5}')"
   ]
  },
  {
   "cell_type": "markdown",
   "metadata": {},
   "source": [
    "It is also possible to combine truncating and padding:"
   ]
  },
  {
   "cell_type": "code",
   "execution_count": 22,
   "metadata": {},
   "outputs": [
    {
     "name": "stdout",
     "output_type": "stream",
     "text": [
      "     Hemog\n",
      "             Hemoglo\n"
     ]
    }
   ],
   "source": [
    "# Old style:\n",
    "# pad to 10 but truncate to 5\n",
    "print('%10.5s' % (s))\n",
    "\n",
    "# New style:\n",
    "# pad to 20 but truncate to 7\n",
    "print(f'{s:>20.7}')"
   ]
  },
  {
   "cell_type": "markdown",
   "metadata": {},
   "source": [
    "## Numbers <a class=\"anchor\" id=\"numbers\"></a>"
   ]
  },
  {
   "cell_type": "markdown",
   "metadata": {},
   "source": [
    "Using string formatting, we can easily control how to present numbers in strings."
   ]
  },
  {
   "cell_type": "markdown",
   "metadata": {},
   "source": [
    "### Example"
   ]
  },
  {
   "cell_type": "code",
   "execution_count": 23,
   "metadata": {},
   "outputs": [],
   "source": [
    "pos_int = 42\n",
    "neg_int = -23\n",
    "floating_number = 3.141592653589793"
   ]
  },
  {
   "cell_type": "markdown",
   "metadata": {},
   "source": [
    "##### Old Style"
   ]
  },
  {
   "cell_type": "code",
   "execution_count": 24,
   "metadata": {},
   "outputs": [
    {
     "name": "stdout",
     "output_type": "stream",
     "text": [
      "All integers: 42, 3\n",
      "All floats: 42.000000, 3.141593\n",
      "Padding:         42,   3.141593\n",
      "Truncating floats: 42.00, 3.14\n",
      "Truncating + padding: 042.00, 003.14\n"
     ]
    }
   ],
   "source": [
    "print('All integers: %d, %d' % (pos_int, floating_number))\n",
    "print('All floats: %f, %f' % (pos_int, floating_number))\n",
    "print('Padding: %10d, %10f' % (pos_int, floating_number))\n",
    "print('Truncating floats: %.2f, %.2f' % (pos_int, floating_number))\n",
    "print('Truncating + padding: %06.2f, %06.2f' % (pos_int, floating_number))"
   ]
  },
  {
   "cell_type": "markdown",
   "metadata": {},
   "source": [
    "#### New Style"
   ]
  },
  {
   "cell_type": "markdown",
   "metadata": {},
   "source": [
    "The new style doesn't support the use of `d` flag with floating numbers and will raise `ValueError` if used with it, but we want to show it as an int regardless, we can use the `f` flag and truncate its floating point to 0.\n",
    "\n",
    "The old style allows passing a truncating value for integers even though it doesn't make sense, but the new style won't accept it and will raise `ValueError` if used with it"
   ]
  },
  {
   "cell_type": "code",
   "execution_count": 25,
   "metadata": {},
   "outputs": [
    {
     "name": "stdout",
     "output_type": "stream",
     "text": [
      "All integers: 42, 3\n",
      "All floats: 42.000000, 3.141593\n",
      "Padding:         42,   3.141593\n",
      "Truncating floats: 42.00, 3.14\n",
      "Truncating + padding: 042.00, 003.14\n"
     ]
    }
   ],
   "source": [
    "print(f'All integers: {pos_int:d}, {floating_number:.0f}')\n",
    "print(f'All floats: {pos_int:f}, {floating_number:f}')\n",
    "print(f'Padding: {pos_int:>10d}, {floating_number:>10f}')\n",
    "print(f'Truncating floats: {pos_int:.2f}, {floating_number:.2f}')\n",
    "print(f'Truncating + padding: {pos_int:06.2f}, {floating_number:06.2f}')"
   ]
  },
  {
   "cell_type": "markdown",
   "metadata": {},
   "source": [
    "We can deal with signed numbers however we like as well. \n",
    "\n",
    "For example: only negative numbers are prefixed with a sign. we can prefix positive numbers with their sign as well, or prefix them with an empty space:"
   ]
  },
  {
   "cell_type": "code",
   "execution_count": 26,
   "metadata": {},
   "outputs": [
    {
     "name": "stdout",
     "output_type": "stream",
     "text": [
      "Old style:\n",
      "positive:+42 \n",
      "negative:-23\n",
      "positive: 42 \n",
      "negative:-23\n",
      "\n",
      "New style:\n",
      "positive:+42 \n",
      "negative:-23\n",
      "positive: 42 \n",
      "negative:-23\n"
     ]
    }
   ],
   "source": [
    "print('Old style:')\n",
    "print('positive:%+d \\nnegative:%d' % (pos_int, neg_int))\n",
    "print('positive:% d \\nnegative:%d' % (pos_int, neg_int))\n",
    "\n",
    "print('\\nNew style:')\n",
    "print(f'positive:{pos_int:+d} \\nnegative:{neg_int:d}')\n",
    "print(f'positive:{pos_int: d} \\nnegative:{neg_int:d}')"
   ]
  },
  {
   "cell_type": "markdown",
   "metadata": {},
   "source": [
    "With the new style, we can add padding between the number and its sign: "
   ]
  },
  {
   "cell_type": "code",
   "execution_count": 27,
   "metadata": {},
   "outputs": [
    {
     "name": "stdout",
     "output_type": "stream",
     "text": [
      "positive:+  42\n",
      "negative:-  23\n"
     ]
    }
   ],
   "source": [
    "print(f'positive:{pos_int:=+5d}\\nnegative:{neg_int:=5d}')"
   ]
  },
  {
   "cell_type": "markdown",
   "metadata": {},
   "source": [
    "## Datetime <a class=\"anchor\" id=\"datetime\"></a>"
   ]
  },
  {
   "cell_type": "markdown",
   "metadata": {},
   "source": [
    "New style formatting allows us to display to value of `datetime` objects in any format we like. "
   ]
  },
  {
   "cell_type": "markdown",
   "metadata": {},
   "source": [
    "### Example"
   ]
  },
  {
   "cell_type": "code",
   "execution_count": 28,
   "metadata": {},
   "outputs": [],
   "source": [
    "from datetime import datetime\n",
    "dt_object = datetime(1997, 2, 12, 3, 5)"
   ]
  },
  {
   "cell_type": "markdown",
   "metadata": {},
   "source": [
    "##### Old Style\n",
    "\n",
    "This isn't possible with the old style."
   ]
  },
  {
   "cell_type": "markdown",
   "metadata": {},
   "source": [
    "#### New Style"
   ]
  },
  {
   "cell_type": "code",
   "execution_count": 29,
   "metadata": {},
   "outputs": [
    {
     "name": "stdout",
     "output_type": "stream",
     "text": [
      "1997-02-12 03:05\n",
      "97-Feb-12 03:05 AM\n"
     ]
    }
   ],
   "source": [
    "print('{:%Y-%m-%d %H:%M}'.format(dt_object))\n",
    "print(f'{dt_object:%y-%h-%d %H:%M %p}')"
   ]
  },
  {
   "cell_type": "markdown",
   "metadata": {},
   "source": [
    "You can check <a href=\"https://strftime.org/\">Python strftime reference</a> to see all the available flags for datetime formatting."
   ]
  },
  {
   "cell_type": "markdown",
   "metadata": {},
   "source": [
    "## Parametrized Formatting <a class=\"anchor\" id=\"parametrized-formatting\"></a>"
   ]
  },
  {
   "cell_type": "markdown",
   "metadata": {},
   "source": [
    "New style formatting allows all of the components of the format to be specified dynamically using parametrization. Parametrized formats are nested expressions in braces that can appear anywhere in the parent format after the colon.\n",
    "\n",
    "Old style formatting also supports some parametrization but is much more limited. it only allows parametrized truncation and precision."
   ]
  },
  {
   "cell_type": "markdown",
   "metadata": {},
   "source": [
    "### Example"
   ]
  },
  {
   "cell_type": "code",
   "execution_count": 30,
   "metadata": {},
   "outputs": [],
   "source": [
    "test = 'test'\n",
    "align = '^'\n",
    "width = 10"
   ]
  },
  {
   "cell_type": "markdown",
   "metadata": {},
   "source": [
    "##### Old Style"
   ]
  },
  {
   "cell_type": "code",
   "execution_count": 31,
   "metadata": {},
   "outputs": [
    {
     "name": "stdout",
     "output_type": "stream",
     "text": [
      "Cosnt = 3.142\n"
     ]
    }
   ],
   "source": [
    "print('%.*s = %.*f' % (5, 'Cosntant', 3, 3.141821))"
   ]
  },
  {
   "cell_type": "markdown",
   "metadata": {},
   "source": [
    "#### New Style"
   ]
  },
  {
   "cell_type": "code",
   "execution_count": 32,
   "metadata": {},
   "outputs": [
    {
     "name": "stdout",
     "output_type": "stream",
     "text": [
      "   test   \n",
      "   test   \n"
     ]
    }
   ],
   "source": [
    "print('{:{align}{width}}'.format(test, align=align, width=width))\n",
    "print(f'{test:{align}{width}}')"
   ]
  },
  {
   "cell_type": "markdown",
   "metadata": {},
   "source": [
    "Theses parametric formats can be positional argument, keyword argument, or a mix of both in the `.format()` method."
   ]
  },
  {
   "cell_type": "code",
   "execution_count": 33,
   "metadata": {},
   "outputs": [
    {
     "name": "stdout",
     "output_type": "stream",
     "text": [
      "     +2.72\n",
      " +2.7183  \n"
     ]
    }
   ],
   "source": [
    "print('{:{}{}{}.{}}'.format(2.7182818284, '>', '+', 10, 3))\n",
    "print('{:{}{sign}{}.{}}'.format(2.7182818284, '^', 10, 5, sign='+'))"
   ]
  },
  {
   "cell_type": "markdown",
   "metadata": {},
   "source": [
    "## Custom Formatting <a class=\"anchor\" id=\"custom-formatting\"></a>"
   ]
  },
  {
   "cell_type": "markdown",
   "metadata": {},
   "source": [
    "You set your desired formatting options for your objects by overriding the `__format__()` magic method so that you can pass any formatting option you desire and decide how to format your object when that option is passed."
   ]
  },
  {
   "cell_type": "markdown",
   "metadata": {},
   "source": [
    "### Example"
   ]
  },
  {
   "cell_type": "code",
   "execution_count": 34,
   "metadata": {},
   "outputs": [],
   "source": [
    "class HAL9000:\n",
    "\n",
    "    def __format__(self, format):\n",
    "        if (format == 'open-the-pod-bay-doors'):\n",
    "            return \"I'm afraid I can't do that.\"\n",
    "        return 'HAL 9000'"
   ]
  },
  {
   "cell_type": "markdown",
   "metadata": {},
   "source": [
    "##### Old Style\n",
    "\n",
    "This isn't possible with the old style."
   ]
  },
  {
   "cell_type": "markdown",
   "metadata": {},
   "source": [
    "#### New Style"
   ]
  },
  {
   "cell_type": "code",
   "execution_count": 35,
   "metadata": {},
   "outputs": [
    {
     "name": "stdout",
     "output_type": "stream",
     "text": [
      "I'm afraid I can't do that.\n",
      "I'm afraid I can't do that.\n",
      "HAL 9000\n"
     ]
    }
   ],
   "source": [
    "print('{:open-the-pod-bay-doors}'.format(HAL9000()))\n",
    "print(f'{HAL9000():open-the-pod-bay-doors}')\n",
    "print(f'{HAL9000()}')"
   ]
  }
 ],
 "metadata": {
  "interpreter": {
   "hash": "ec26fe652b81aa16e73f5f2489daa0bd9f355124f013eb8138d239f76af89ec7"
  },
  "kernelspec": {
   "display_name": "Python 3.9.7 ('base')",
   "language": "python",
   "name": "python3"
  },
  "language_info": {
   "codemirror_mode": {
    "name": "ipython",
    "version": 3
   },
   "file_extension": ".py",
   "mimetype": "text/x-python",
   "name": "python",
   "nbconvert_exporter": "python",
   "pygments_lexer": "ipython3",
   "version": "3.9.7"
  },
  "orig_nbformat": 4
 },
 "nbformat": 4,
 "nbformat_minor": 2
}
